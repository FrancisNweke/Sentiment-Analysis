{
  "nbformat": 4,
  "nbformat_minor": 0,
  "metadata": {
    "colab": {
      "provenance": [],
      "collapsed_sections": []
    },
    "kernelspec": {
      "name": "python3",
      "display_name": "Python 3"
    },
    "language_info": {
      "name": "python"
    }
  },
  "cells": [
    {
      "cell_type": "code",
      "execution_count": 1,
      "metadata": {
        "colab": {
          "base_uri": "https://localhost:8080/"
        },
        "id": "GXCZiF1oE3oH",
        "outputId": "7e64df8c-991b-43ad-b3c3-7d9368bfccfa"
      },
      "outputs": [
        {
          "output_type": "stream",
          "name": "stdout",
          "text": [
            "Downloading data from https://storage.googleapis.com/download.tensorflow.org/data/stack_overflow_16k.tar.gz\n",
            "6053888/6053168 [==============================] - 0s 0us/step\n",
            "6062080/6053168 [==============================] - 0s 0us/step\n"
          ]
        }
      ],
      "source": [
        "import matplotlib.pyplot as plt\n",
        "import os\n",
        "import re\n",
        "import shutil\n",
        "import string\n",
        "import tensorflow as tf\n",
        "import pandas as pd\n",
        "\n",
        "from keras.layers import Embedding, GlobalAveragePooling1D, Dropout, Dense, TextVectorization, Activation, GlobalMaxPooling1D\n",
        "from keras.losses import SparseCategoricalCrossentropy\n",
        "from keras.models import Model\n",
        "from keras.callbacks import EarlyStopping\n",
        "\n",
        "url = \"https://storage.googleapis.com/download.tensorflow.org/data/stack_overflow_16k.tar.gz\"\n",
        "\n",
        "dataset = tf.keras.utils.get_file(\"stack_overflow_16k\", url,\n",
        "                                    untar=True, cache_dir='.',\n",
        "                                    cache_subdir='')\n"
      ]
    },
    {
      "cell_type": "code",
      "source": [
        "# region Process Data\n",
        "batch_size = 32\n",
        "seed = 42\n",
        "\n",
        "train_dataset = tf.keras.utils.text_dataset_from_directory(\n",
        "    'train',\n",
        "    batch_size=batch_size,\n",
        "    validation_split=0.2,\n",
        "    subset='training',\n",
        "    seed=seed)\n",
        "\n",
        "for text_batch, label_batch in train_dataset.take(1):\n",
        "    for i in range(3):\n",
        "        print(\"Review\", text_batch.numpy()[i])\n",
        "        print(\"Label\", label_batch.numpy()[i])\n",
        "\n",
        "print('\\n')\n",
        "print(\"Label 0 corresponds to\", train_dataset.class_names[0])\n",
        "print(\"Label 1 corresponds to\", train_dataset.class_names[1])\n",
        "print(\"Label 2 corresponds to\", train_dataset.class_names[2])\n",
        "print(\"Label 3 corresponds to\", train_dataset.class_names[3])\n",
        "print('\\n')\n",
        "\n",
        "validation_dataset = tf.keras.utils.text_dataset_from_directory(\n",
        "    'train',\n",
        "    batch_size=batch_size,\n",
        "    validation_split=0.2,\n",
        "    subset='validation',\n",
        "    seed=seed)\n",
        "\n",
        "test_dataset = tf.keras.utils.text_dataset_from_directory(\n",
        "    'test',\n",
        "    batch_size=batch_size)\n",
        "# endregion"
      ],
      "metadata": {
        "colab": {
          "base_uri": "https://localhost:8080/"
        },
        "id": "C0iY7StWGblr",
        "outputId": "cc9e91af-1978-4ad4-99d7-a24626604712"
      },
      "execution_count": 2,
      "outputs": [
        {
          "output_type": "stream",
          "name": "stdout",
          "text": [
            "Found 8000 files belonging to 4 classes.\n",
            "Using 6400 files for training.\n",
            "Review b'\"my tester is going to the wrong constructor i am new to programming so if i ask a question that can be easily fixed, please forgive me. my program has a tester class with a main. when i send that to my regularpolygon class, it sends it to the wrong constructor. i have two constructors. 1 without perameters..public regularpolygon().    {.       mynumsides = 5;.       mysidelength = 30;.    }//end default constructor...and my second, with perameters. ..public regularpolygon(int numsides, double sidelength).    {.        mynumsides = numsides;.        mysidelength = sidelength;.    }// end constructor...in my tester class i have these two lines:..regularpolygon shape = new regularpolygon(numsides, sidelength);.        shape.menu();...numsides and sidelength were declared and initialized earlier in the testing class...so what i want to happen, is the tester class sends numsides and sidelength to the second constructor and use it in that class. but it only uses the default constructor, which therefor ruins the whole rest of the program. can somebody help me?..for those of you who want to see more of my code: here you go..public double vertexangle().    {.        system.out.println(\"\"the vertex angle method: \"\" + mynumsides);// prints out 5.        system.out.println(\"\"the vertex angle method: \"\" + mysidelength); // prints out 30..        double vertexangle;.        vertexangle = ((mynumsides - 2.0) / mynumsides) * 180.0;.        return vertexangle;.    }//end method vertexangle..public void menu().{.    system.out.println(mynumsides); // prints out what the user puts in.    system.out.println(mysidelength); // prints out what the user puts in.    gotographic();.    calcr(mynumsides, mysidelength);.    calcr(mynumsides, mysidelength);.    print(); .}// end menu...this is my entire tester class:..public static void main(string[] arg).{.    int numsides;.    double sidelength;.    scanner keyboard = new scanner(system.in);..    system.out.println(\"\"welcome to the regular polygon program!\"\");.    system.out.println();..    system.out.print(\"\"enter the number of sides of the polygon ==&gt; \"\");.    numsides = keyboard.nextint();.    system.out.println();..    system.out.print(\"\"enter the side length of each side ==&gt; \"\");.    sidelength = keyboard.nextdouble();.    system.out.println();..    regularpolygon shape = new regularpolygon(numsides, sidelength);.    shape.menu();.}//end main...for testing it i sent it numsides 4 and sidelength 100.\"\\n'\n",
            "Label 1\n",
            "Review b'\"blank code slow skin detection this code changes the color space to lab and using a threshold finds the skin area of an image. but it\\'s ridiculously slow. i don\\'t know how to make it faster ?    ..from colormath.color_objects import *..def skindetection(img, treshold=80, color=[255,20,147]):..    print img.shape.    res=img.copy().    for x in range(img.shape[0]):.        for y in range(img.shape[1]):.            rgbimg=rgbcolor(img[x,y,0],img[x,y,1],img[x,y,2]).            labimg=rgbimg.convert_to(\\'lab\\', debug=false).            if (labimg.lab_l &gt; treshold):.                res[x,y,:]=color.            else: .                res[x,y,:]=img[x,y,:]..    return res\"\\n'\n",
            "Label 3\n",
            "Review b'\"option and validation in blank i want to add a new option on my system where i want to add two text files, both rental.txt and customer.txt. inside each text are id numbers of the customer, the videotape they need and the price...i want to place it as an option on my code. right now i have:...add customer.rent return.view list.search.exit...i want to add this as my sixth option. say for example i ordered a video, it would display the price and would let me confirm the price and if i am going to buy it or not...here is my current code:..  import blank.io.*;.    import blank.util.arraylist;.    import static blank.lang.system.out;..    public class rentalsystem{.    static bufferedreader input = new bufferedreader(new inputstreamreader(system.in));.    static file file = new file(\"\"file.txt\"\");.    static arraylist&lt;string&gt; list = new arraylist&lt;string&gt;();.    static int rows;..    public static void main(string[] args) throws exception{.        introduction();.        system.out.print(\"\"nn\"\");.        login();.        system.out.print(\"\"nnnnnnnnnnnnnnnnnnnnnn\"\");.        introduction();.        string repeat;.        do{.            loadfile();.            system.out.print(\"\"nwhat do you want to do?nn\"\");.            system.out.print(\"\"n                    - - - - - - - - - - - - - - - - - - - - - - -\"\");.            system.out.print(\"\"nn                    |     1. add customer    |   2. rent return |n\"\");.            system.out.print(\"\"n                    - - - - - - - - - - - - - - - - - - - - - - -\"\");.            system.out.print(\"\"nn                    |     3. view list       |   4. search      |n\"\");.            system.out.print(\"\"n                    - - - - - - - - - - - - - - - - - - - - - - -\"\");.            system.out.print(\"\"nn                                             |   5. exit        |n\"\");.            system.out.print(\"\"n                                              - - - - - - - - - -\"\");.            system.out.print(\"\"nnchoice:\"\");.            int choice = integer.parseint(input.readline());.            switch(choice){.                case 1:.                    writedata();.                    break;.                case 2:.                    rentdata();.                    break;.                case 3:.                    viewlist();.                    break;.                case 4:.                    search();.                    break;.                case 5:.                    system.out.println(\"\"goodbye!\"\");.                    system.exit(0);.                default:.                    system.out.print(\"\"invalid choice: \"\");.                    break;.            }.            system.out.print(\"\"ndo another task? [y/n] \"\");.            repeat = input.readline();.        }while(repeat.equals(\"\"y\"\"));..        if(repeat!=\"\"y\"\") system.out.println(\"\"ngoodbye!\"\");..    }..    public static void writedata() throws exception{.        system.out.print(\"\"nname: \"\");.        string cname = input.readline();.        system.out.print(\"\"address: \"\");.        string add = input.readline();.        system.out.print(\"\"phone no.: \"\");.        string pno = input.readline();.        system.out.print(\"\"rental amount: \"\");.        string ramount = input.readline();.        system.out.print(\"\"tapenumber: \"\");.        string tno = input.readline();.        system.out.print(\"\"title: \"\");.        string title = input.readline();.        system.out.print(\"\"date borrowed: \"\");.        string dborrowed = input.readline();.        system.out.print(\"\"due date: \"\");.        string ddate = input.readline();.        createline(cname, add, pno, ramount,tno, title, dborrowed, ddate);.        rentdata();.    }..    public static void createline(string name, string address, string phone , string rental, string tapenumber, string title, string borrowed, string due) throws exception{.        filewriter fw = new filewriter(file, true);.        fw.write(\"\"nname: \"\"+name + \"\"naddress: \"\" + address +\"\"nphone no.: \"\"+ phone+\"\"nrentalamount: \"\"+rental+\"\"ntape no.: \"\"+ tapenumber+\"\"ntitle: \"\"+ title+\"\"ndate borrowed: \"\"+borrowed +\"\"ndue date: \"\"+ due+\"\":rn\"\");.        fw.close();.    }..    public static void loadfile() throws exception{.        try{.            list.clear();.            fileinputstream fstream = new fileinputstream(file);.            bufferedreader br = new bufferedreader(new inputstreamreader(fstream));.            rows = 0;.            while( br.ready()).            {.                list.add(br.readline());.                rows++;.            }.            br.close();.        } catch(exception e){.            system.out.println(\"\"list not yet loaded.\"\");.        }.    }..    public static void viewlist(){.        system.out.print(\"\"n~ ~ ~ ~ ~ ~ ~ ~ ~ ~ ~\"\");.        system.out.print(\"\" |list of all costumers|\"\");.        system.out.print(\"\"~ ~ ~ ~ ~ ~ ~ ~ ~ ~ ~\"\");.        for(int i = 0; i &lt;rows; i++){.            system.out.println(list.get(i));.        }.    }.        public static void rentdata()throws exception.    {   system.out.print(\"\"n~ ~ ~ ~ ~ ~ ~ ~ ~ ~ ~\"\");.        system.out.print(\"\" |rent data list|\"\");.        system.out.print(\"\"~ ~ ~ ~ ~ ~ ~ ~ ~ ~ ~\"\");.        system.out.print(\"\"nenter customer name: \"\");.        string cname = input.readline();.        system.out.print(\"\"date borrowed: \"\");.        string dborrowed = input.readline();.        system.out.print(\"\"due date: \"\");.        string ddate = input.readline();.        system.out.print(\"\"return date: \"\");.        string rdate = input.readline();.        system.out.print(\"\"rent amount: \"\");.        string ramount = input.readline();..        system.out.print(\"\"you pay:\"\"+ramount);...    }.    public static void search()throws exception.    {   system.out.print(\"\"n~ ~ ~ ~ ~ ~ ~ ~ ~ ~ ~\"\");.        system.out.print(\"\" |search costumers|\"\");.        system.out.print(\"\"~ ~ ~ ~ ~ ~ ~ ~ ~ ~ ~\"\");.        system.out.print(\"\"nenter costumer name: \"\");.        string cname = input.readline();.        boolean found = false;..        for(int i=0; i &lt; rows; i++){.            string temp[] = list.get(i).split(\"\",\"\");..            if(cname.equals(temp[0])){.            system.out.println(\"\"search result:nyou are \"\" + temp[0] + \"\" from \"\" + temp[1] + \"\".\"\"+ temp[2] + \"\".\"\"+ temp[3] + \"\".\"\"+ temp[4] + \"\".\"\"+ temp[5] + \"\" is \"\" + temp[6] + \"\".\"\"+ temp[7] + \"\" is \"\" + temp[8] + \"\".\"\");.                found = true;.            }.        }..        if(!found){.            system.out.print(\"\"no results.\"\");.        }..    }..        public static boolean evaluate(string uname, string pass){.        if (uname.equals(\"\"admin\"\")&amp;&amp;pass.equals(\"\"12345\"\")) return true;.        else return false;.    }..    public static string login()throws exception{.        bufferedreader input=new bufferedreader(new inputstreamreader(system.in));.        int counter=0;.        do{.            system.out.print(\"\"username:\"\");.            string uname =input.readline();.            system.out.print(\"\"password:\"\");.            string pass =input.readline();..            boolean accept= evaluate(uname,pass);..            if(accept){.                break;.                }else{.                    system.out.println(\"\"incorrect username or password!\"\");.                    counter ++;.                    }.        }while(counter&lt;3);..            if(counter !=3) return \"\"login successful\"\";.            else return \"\"login failed\"\";.            }.        public static void introduction() throws exception{..        system.out.println(\"\"                  - - - - - - - - - - - - - - - - - - - - - - - - -\"\");.        system.out.println(\"\"                  !                  r e n t a l                  !\"\");.        system.out.println(\"\"                   ! ~ ~ ~ ~ ~ !  =================  ! ~ ~ ~ ~ ~ !\"\");.        system.out.println(\"\"                  !                  s y s t e m                  !\"\");.        system.out.println(\"\"                  - - - - - - - - - - - - - - - - - - - - - - - - -\"\");.        }..}\"\\n'\n",
            "Label 1\n",
            "\n",
            "\n",
            "Label 0 corresponds to csharp\n",
            "Label 1 corresponds to java\n",
            "Label 2 corresponds to javascript\n",
            "Label 3 corresponds to python\n",
            "\n",
            "\n",
            "Found 8000 files belonging to 4 classes.\n",
            "Using 1600 files for validation.\n",
            "Found 8000 files belonging to 4 classes.\n"
          ]
        }
      ]
    },
    {
      "cell_type": "code",
      "source": [
        "# region Standardize, Tokenize and Vectorize\n",
        "\"\"\"Standardization refers to preprocessing the text, typically to remove punctuation or HTML elements to simplify the \n",
        "dataset. Tokenization refers to splitting strings into tokens (for example, splitting a sentence into individual \n",
        "words, by splitting on whitespace). Vectorization refers to converting tokens into numbers so they can be fed into a \n",
        "neural network. \"\"\"\n",
        "\n",
        "\n",
        "def CustomStandardization(input_data):\n",
        "    lowercase = tf.strings.lower(input_data)\n",
        "    stripped_html = tf.strings.regex_replace(lowercase, '<br />', ' ')\n",
        "    return tf.strings.regex_replace(stripped_html,\n",
        "                                    '[%s]' % re.escape(string.punctuation),\n",
        "                                    '')\n",
        "\n",
        "\n",
        "max_features = 10000\n",
        "sequence_length = 250\n",
        "\n",
        "vectorize_layer = TextVectorization(\n",
        "    standardize=CustomStandardization,\n",
        "    max_tokens=max_features,\n",
        "    output_mode='int',\n",
        "    output_sequence_length=sequence_length)\n",
        "\n",
        "# Make a text-only dataset (without labels), then call adapt\n",
        "train_text = train_dataset.map(lambda x, y: x)\n",
        "vectorize_layer.adapt(train_text)\n",
        "\n",
        "\n",
        "def VectorizeText(text, label):\n",
        "    text = tf.expand_dims(text, -1)\n",
        "    return vectorize_layer(text), label\n",
        "\n",
        "\n",
        "# retrieve a batch (of 32 reviews and labels) from the dataset\n",
        "text_batch, label_batch = next(iter(train_dataset))\n",
        "first_review, first_label = text_batch[0], label_batch[0]\n",
        "print(\"Review\", first_review)\n",
        "print(\"Label\", train_dataset.class_names[first_label])\n",
        "print(\"Vectorized review\", VectorizeText(first_review, first_label))\n",
        "\n",
        "print(\"1287 ---> \", vectorize_layer.get_vocabulary()[1287])\n",
        "print(\"313 ---> \", vectorize_layer.get_vocabulary()[313])\n",
        "print('Vocabulary size: {}'.format(len(vectorize_layer.get_vocabulary())))\n",
        "# endregion\n",
        "\n",
        "# region Apply text vectorization on the datasets\n",
        "train_data = train_dataset.map(VectorizeText)\n",
        "val_data = validation_dataset.map(VectorizeText)\n",
        "test_data = test_dataset.map(VectorizeText)\n",
        "# endregion\n",
        "\n",
        "# region Configure data for performance\n",
        "AUTOTUNE = tf.data.AUTOTUNE\n",
        "\n",
        "train_data = train_data.cache().prefetch(buffer_size=AUTOTUNE)\n",
        "val_data = val_data.cache().prefetch(buffer_size=AUTOTUNE)\n",
        "test_data = test_data.cache().prefetch(buffer_size=AUTOTUNE)\n",
        "# endregion\n",
        "\n",
        "# region Create the model\n",
        "embedding_dim = 16\n",
        "\n",
        "# embed_layer = Embedding(max_features + 1, embedding_dim)\n",
        "# dropout_layer_1 = Dropout(0.2)(embed_layer)\n",
        "# pooling_layer = GlobalAveragePooling1D()(dropout_layer_1)\n",
        "# dropout_layer_2 = Dropout(0.2)(pooling_layer)\n",
        "# hidden_layer = Dense(units=1)(dropout_layer_2)\n",
        "\n",
        "model = tf.keras.Sequential([\n",
        "  Embedding(max_features + 1, embedding_dim),\n",
        "  Dropout(0.2),\n",
        "  GlobalAveragePooling1D(),\n",
        "  #Dense(units=12, activation='relu'),\n",
        "  #GlobalMaxPooling1D(),\n",
        "  Dropout(0.2),\n",
        "  Dense(units=4)])\n",
        "\n",
        "model.summary()\n",
        "\n",
        "model.compile(loss=SparseCategoricalCrossentropy(from_logits=True),\n",
        "              optimizer='adam',\n",
        "              metrics=['accuracy'])\n",
        "# endregion\n",
        "\n",
        "# Early stopping to avoid overfitting\n",
        "early_stop = EarlyStopping(monitor='val_loss', mode='min', patience=3)\n",
        "\n",
        "# region Train and evaluate the model\n",
        "epochs = 30\n",
        "history = model.fit(\n",
        "    train_data,\n",
        "    validation_data=val_data,\n",
        "    epochs=epochs,\n",
        "    callbacks=[early_stop])\n",
        "\n",
        "loss, accuracy = model.evaluate(test_data)\n",
        "\n",
        "print(\"Loss: \", loss)\n",
        "print(\"Accuracy: \", accuracy)\n",
        "# endregion"
      ],
      "metadata": {
        "colab": {
          "base_uri": "https://localhost:8080/"
        },
        "id": "T1Fd3ls4GIkR",
        "outputId": "122ffc04-8781-4476-de39-210f553265e3"
      },
      "execution_count": 5,
      "outputs": [
        {
          "output_type": "stream",
          "name": "stdout",
          "text": [
            "Review tf.Tensor(b'\"what is an efficient way operating a set of variables? i am making a \"\"genetic simulator\"\", and at some point i want to compare the data in the genes to set the result in an individual. i came to a solution, but seems quite impractical, i\\'m sure there is a proper way of doing it ..right now, i use a static method in a support class that handles the operation, but i fear that maintenance will be annoying, as i plan to modify the list of attributes quite often...public class geneops {  .    public static attributelist addattributelists (attributelist a, attributelist b) {.        attributelist x=new attributelist();..        x.agressiveness= a.agressiveness+b.agressiveness;.        x.bravery=a.bravery+b.bravery;.        x.speed=a.speed+b.speed;.        //repeat for all attributes..        return x;.    }.}...this works, but i would like something that is updated automatically every time i decide to add something to the list eg: if i add an attribute called sneak, i want it to be calculated without modifying the method.\"\\n', shape=(), dtype=string)\n",
            "Label java\n",
            "Vectorized review (<tf.Tensor: shape=(1, 250), dtype=int64, numpy=\n",
            "array([[  55,    6,   32, 1241,   84, 6386,    5,  107,    9,  233,    3,\n",
            "          34,  468,    5,    1,    1,    8,   59,   83,  316,    3,   46,\n",
            "           4,  536,    2,   80,    7,    2,    1,    4,  107,    2,  128,\n",
            "           7,   32, 1343,    3, 1053,    4,    5,  299,   26,  310,  810,\n",
            "           1,   52,  219,   67,    6,    5, 1313,   84,    9,  210,   11,\n",
            "         217,  173,    3,   70,    5,   53,   64,    7,    5,  896,   29,\n",
            "          14, 2405,    2,  803,   26,    3,    1,   14, 7607,   72,   33,\n",
            "        6907,   36,    3, 1742,    4,  776,    2,   54,    9,  873,  810,\n",
            "           1,   29,    1,   22,   53, 8259,    1, 8259,    5, 8259,  108,\n",
            "        8259,    1, 8259,    1,    1,    1,    1,  939,   12,   73,  873,\n",
            "          27,   89,   13,  188,   26,    3,   69,   48,  146,   14,    6,\n",
            "         998,  902,  260,  105,    3, 3120,    4,  125,  146,    4,    2,\n",
            "          54,  613,   10,    3,  125,   32,  485,  254, 7266,    3,   46,\n",
            "          11,    4,   33, 2082,  203, 2255,    2,   64,    0,    0,    0,\n",
            "           0,    0,    0,    0,    0,    0,    0,    0,    0,    0,    0,\n",
            "           0,    0,    0,    0,    0,    0,    0,    0,    0,    0,    0,\n",
            "           0,    0,    0,    0,    0,    0,    0,    0,    0,    0,    0,\n",
            "           0,    0,    0,    0,    0,    0,    0,    0,    0,    0,    0,\n",
            "           0,    0,    0,    0,    0,    0,    0,    0,    0,    0,    0,\n",
            "           0,    0,    0,    0,    0,    0,    0,    0,    0,    0,    0,\n",
            "           0,    0,    0,    0,    0,    0,    0,    0,    0,    0,    0,\n",
            "           0,    0,    0,    0,    0,    0,    0,    0,    0,    0,    0,\n",
            "           0,    0,    0,    0,    0,    0,    0,    0]])>, <tf.Tensor: shape=(), dtype=int32, numpy=1>)\n",
            "1287 --->  scissors\n",
            "313 --->  source\n",
            "Vocabulary size: 10000\n",
            "Model: \"sequential_2\"\n",
            "_________________________________________________________________\n",
            " Layer (type)                Output Shape              Param #   \n",
            "=================================================================\n",
            " embedding_2 (Embedding)     (None, None, 16)          160016    \n",
            "                                                                 \n",
            " dropout_4 (Dropout)         (None, None, 16)          0         \n",
            "                                                                 \n",
            " global_average_pooling1d_2   (None, 16)               0         \n",
            " (GlobalAveragePooling1D)                                        \n",
            "                                                                 \n",
            " dropout_5 (Dropout)         (None, 16)                0         \n",
            "                                                                 \n",
            " dense_2 (Dense)             (None, 4)                 68        \n",
            "                                                                 \n",
            "=================================================================\n",
            "Total params: 160,084\n",
            "Trainable params: 160,084\n",
            "Non-trainable params: 0\n",
            "_________________________________________________________________\n",
            "Epoch 1/30\n",
            "200/200 [==============================] - 4s 19ms/step - loss: 1.3778 - accuracy: 0.3655 - val_loss: 1.3646 - val_accuracy: 0.4731\n",
            "Epoch 2/30\n",
            "200/200 [==============================] - 2s 8ms/step - loss: 1.3452 - accuracy: 0.4956 - val_loss: 1.3200 - val_accuracy: 0.5406\n",
            "Epoch 3/30\n",
            "200/200 [==============================] - 2s 8ms/step - loss: 1.2883 - accuracy: 0.5427 - val_loss: 1.2544 - val_accuracy: 0.5731\n",
            "Epoch 4/30\n",
            "200/200 [==============================] - 1s 7ms/step - loss: 1.2159 - accuracy: 0.5895 - val_loss: 1.1809 - val_accuracy: 0.6131\n",
            "Epoch 5/30\n",
            "200/200 [==============================] - 2s 9ms/step - loss: 1.1407 - accuracy: 0.6222 - val_loss: 1.1095 - val_accuracy: 0.6550\n",
            "Epoch 6/30\n",
            "200/200 [==============================] - 2s 8ms/step - loss: 1.0690 - accuracy: 0.6755 - val_loss: 1.0429 - val_accuracy: 0.6938\n",
            "Epoch 7/30\n",
            "200/200 [==============================] - 2s 8ms/step - loss: 1.0006 - accuracy: 0.6994 - val_loss: 0.9824 - val_accuracy: 0.7088\n",
            "Epoch 8/30\n",
            "200/200 [==============================] - 2s 8ms/step - loss: 0.9407 - accuracy: 0.7237 - val_loss: 0.9285 - val_accuracy: 0.7281\n",
            "Epoch 9/30\n",
            "200/200 [==============================] - 2s 8ms/step - loss: 0.8873 - accuracy: 0.7484 - val_loss: 0.8810 - val_accuracy: 0.7394\n",
            "Epoch 10/30\n",
            "200/200 [==============================] - 2s 9ms/step - loss: 0.8387 - accuracy: 0.7547 - val_loss: 0.8390 - val_accuracy: 0.7575\n",
            "Epoch 11/30\n",
            "200/200 [==============================] - 2s 9ms/step - loss: 0.7964 - accuracy: 0.7711 - val_loss: 0.8022 - val_accuracy: 0.7650\n",
            "Epoch 12/30\n",
            "200/200 [==============================] - 2s 8ms/step - loss: 0.7552 - accuracy: 0.7855 - val_loss: 0.7695 - val_accuracy: 0.7675\n",
            "Epoch 13/30\n",
            "200/200 [==============================] - 1s 7ms/step - loss: 0.7198 - accuracy: 0.7953 - val_loss: 0.7410 - val_accuracy: 0.7819\n",
            "Epoch 14/30\n",
            "200/200 [==============================] - 2s 8ms/step - loss: 0.6899 - accuracy: 0.8044 - val_loss: 0.7151 - val_accuracy: 0.7906\n",
            "Epoch 15/30\n",
            "200/200 [==============================] - 2s 11ms/step - loss: 0.6587 - accuracy: 0.8106 - val_loss: 0.6930 - val_accuracy: 0.7912\n",
            "Epoch 16/30\n",
            "200/200 [==============================] - 2s 12ms/step - loss: 0.6298 - accuracy: 0.8170 - val_loss: 0.6721 - val_accuracy: 0.7937\n",
            "Epoch 17/30\n",
            "200/200 [==============================] - 2s 10ms/step - loss: 0.6081 - accuracy: 0.8252 - val_loss: 0.6533 - val_accuracy: 0.8000\n",
            "Epoch 18/30\n",
            "200/200 [==============================] - 2s 8ms/step - loss: 0.5849 - accuracy: 0.8339 - val_loss: 0.6364 - val_accuracy: 0.8037\n",
            "Epoch 19/30\n",
            "200/200 [==============================] - 2s 8ms/step - loss: 0.5631 - accuracy: 0.8406 - val_loss: 0.6218 - val_accuracy: 0.8056\n",
            "Epoch 20/30\n",
            "200/200 [==============================] - 2s 8ms/step - loss: 0.5401 - accuracy: 0.8464 - val_loss: 0.6078 - val_accuracy: 0.8037\n",
            "Epoch 21/30\n",
            "200/200 [==============================] - 2s 9ms/step - loss: 0.5219 - accuracy: 0.8572 - val_loss: 0.5953 - val_accuracy: 0.8044\n",
            "Epoch 22/30\n",
            "200/200 [==============================] - 2s 8ms/step - loss: 0.5063 - accuracy: 0.8641 - val_loss: 0.5847 - val_accuracy: 0.8056\n",
            "Epoch 23/30\n",
            "200/200 [==============================] - 2s 9ms/step - loss: 0.4866 - accuracy: 0.8656 - val_loss: 0.5731 - val_accuracy: 0.8094\n",
            "Epoch 24/30\n",
            "200/200 [==============================] - 2s 8ms/step - loss: 0.4734 - accuracy: 0.8706 - val_loss: 0.5634 - val_accuracy: 0.8125\n",
            "Epoch 25/30\n",
            "200/200 [==============================] - 2s 9ms/step - loss: 0.4608 - accuracy: 0.8712 - val_loss: 0.5542 - val_accuracy: 0.8150\n",
            "Epoch 26/30\n",
            "200/200 [==============================] - 2s 8ms/step - loss: 0.4439 - accuracy: 0.8805 - val_loss: 0.5462 - val_accuracy: 0.8194\n",
            "Epoch 27/30\n",
            "200/200 [==============================] - 2s 9ms/step - loss: 0.4283 - accuracy: 0.8852 - val_loss: 0.5385 - val_accuracy: 0.8175\n",
            "Epoch 28/30\n",
            "200/200 [==============================] - 2s 9ms/step - loss: 0.4175 - accuracy: 0.8894 - val_loss: 0.5316 - val_accuracy: 0.8206\n",
            "Epoch 29/30\n",
            "200/200 [==============================] - 2s 8ms/step - loss: 0.4025 - accuracy: 0.8936 - val_loss: 0.5251 - val_accuracy: 0.8206\n",
            "Epoch 30/30\n",
            "200/200 [==============================] - 2s 9ms/step - loss: 0.3947 - accuracy: 0.8941 - val_loss: 0.5192 - val_accuracy: 0.8256\n",
            "250/250 [==============================] - 3s 12ms/step - loss: 0.5697 - accuracy: 0.7947\n",
            "Loss:  0.5697101354598999\n",
            "Accuracy:  0.7947499752044678\n"
          ]
        }
      ]
    },
    {
      "cell_type": "code",
      "source": [
        "# region Plot the graph\n",
        "history_dict = history.history\n",
        "history_dict.keys()\n",
        "\n",
        "acc = history_dict['accuracy']\n",
        "val_acc = history_dict['val_accuracy']\n",
        "loss = history_dict['loss']\n",
        "val_loss = history_dict['val_loss']\n",
        "\n",
        "epochs = range(1, len(acc) + 1)\n",
        "\n",
        "# \"bo\" is for \"blue dot\"\n",
        "plt.plot(epochs, loss, 'bo', label='Training loss')\n",
        "# b is for \"solid blue line\"\n",
        "plt.plot(epochs, val_loss, 'b', label='Validation loss')\n",
        "plt.title('Training and validation loss')\n",
        "plt.xlabel('Epochs')\n",
        "plt.ylabel('Loss')\n",
        "plt.legend()\n",
        "\n",
        "plt.show()\n",
        "\n",
        "plt.plot(epochs, acc, 'bo', label='Training acc')\n",
        "plt.plot(epochs, val_acc, 'b', label='Validation acc')\n",
        "plt.title('Training and validation accuracy')\n",
        "plt.xlabel('Epochs')\n",
        "plt.ylabel('Accuracy')\n",
        "plt.legend(loc='lower right')\n",
        "\n",
        "plt.show()\n",
        "# endregion"
      ],
      "metadata": {
        "colab": {
          "base_uri": "https://localhost:8080/",
          "height": 573
        },
        "id": "WAZZ8ejVGMAp",
        "outputId": "e8b4148f-745b-4b17-ebfd-208a58cbab8b"
      },
      "execution_count": 6,
      "outputs": [
        {
          "output_type": "display_data",
          "data": {
            "text/plain": [
              "<Figure size 432x288 with 1 Axes>"
            ],
            "image/png": "[encoded data removed]"
          },
          "metadata": {
            "needs_background": "light"
          }
        },
        {
          "output_type": "display_data",
          "data": {
            "text/plain": [
              "<Figure size 432x288 with 1 Axes>"
            ],
            "image/png": "[encoded data removed]"
          },
          "metadata": {
            "needs_background": "light"
          }
        }
      ]
    },
    {
      "cell_type": "code",
      "source": [
        "# Retrain with activation and vector layer\n",
        "optimized_model = tf.keras.Sequential([\n",
        "  vectorize_layer,\n",
        "  model,\n",
        "  Activation('softmax')\n",
        "])\n",
        "\n",
        "optimized_model.compile(\n",
        "    loss=SparseCategoricalCrossentropy(from_logits=True), optimizer=\"adam\", metrics=['accuracy']\n",
        ")\n",
        "\n",
        "# Test it with `test_dataset`, which yields raw strings\n",
        "loss, accuracy = optimized_model.evaluate(test_dataset)\n",
        "print(accuracy)"
      ],
      "metadata": {
        "id": "h_a78cLwN_de",
        "colab": {
          "base_uri": "https://localhost:8080/"
        },
        "outputId": "38d6e22c-825c-4f7f-9708-805e265eeff8"
      },
      "execution_count": 7,
      "outputs": [
        {
          "output_type": "stream",
          "name": "stderr",
          "text": [
            "/usr/local/lib/python3.7/dist-packages/tensorflow/python/util/dispatch.py:1082: UserWarning: \"`sparse_categorical_crossentropy` received `from_logits=True`, but the `output` argument was produced by a sigmoid or softmax activation and thus does not represent logits. Was this intended?\"\n",
            "  return dispatch_target(*args, **kwargs)\n"
          ]
        },
        {
          "output_type": "stream",
          "name": "stdout",
          "text": [
            "250/250 [==============================] - 3s 11ms/step - loss: 0.5697 - accuracy: 0.7947\n",
            "0.7947499752044678\n"
          ]
        }
      ]
    }
  ]
}